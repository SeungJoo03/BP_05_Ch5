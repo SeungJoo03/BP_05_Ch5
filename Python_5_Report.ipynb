{
  "nbformat": 4,
  "nbformat_minor": 0,
  "metadata": {
    "colab": {
      "provenance": [],
      "authorship_tag": "ABX9TyPLTDMVbV2OMO3ccNVN4DOF",
      "include_colab_link": true
    },
    "kernelspec": {
      "name": "python3",
      "display_name": "Python 3"
    },
    "language_info": {
      "name": "python"
    }
  },
  "cells": [
    {
      "cell_type": "markdown",
      "metadata": {
        "id": "view-in-github",
        "colab_type": "text"
      },
      "source": [
        "<a href=\"https://colab.research.google.com/github/SeungJoo03/BP_05_Ch5/blob/main/Python_5_Report.ipynb\" target=\"_parent\"><img src=\"https://colab.research.google.com/assets/colab-badge.svg\" alt=\"Open In Colab\"/></a>"
      ]
    },
    {
      "cell_type": "markdown",
      "source": [
        "다음 프로그램의 출력은 무엇인가?"
      ],
      "metadata": {
        "id": "TKrfkiY7theZ"
      }
    },
    {
      "cell_type": "code",
      "source": [
        "age = 20\n",
        "if age < 20:\n",
        "  print('20살 미만')\n",
        "else:\n",
        "  print('20살 이상')"
      ],
      "metadata": {
        "colab": {
          "base_uri": "https://localhost:8080/"
        },
        "id": "oytslLHRto_P",
        "outputId": "8b6a2ad2-922e-4c71-bb6c-3d6759452618"
      },
      "execution_count": 1,
      "outputs": [
        {
          "output_type": "stream",
          "name": "stdout",
          "text": [
            "20살 이상\n"
          ]
        }
      ]
    },
    {
      "cell_type": "markdown",
      "source": [
        "1번문졔에서 age가 30이상이고 50이하인 것을 체크하려면 어떻게 하여야 하는가?"
      ],
      "metadata": {
        "id": "BzLNXt5nt4PF"
      }
    },
    {
      "cell_type": "code",
      "source": [
        "age = 20\n",
        "if 30 >= age and age <= 50:\n",
        "  print('20살 미만')\n",
        "else:\n",
        "  print('20살 이상')"
      ],
      "metadata": {
        "colab": {
          "base_uri": "https://localhost:8080/"
        },
        "id": "J0g7oGibuF53",
        "outputId": "588b0b15-87b5-41c1-8602-7f234fb95eb7"
      },
      "execution_count": 3,
      "outputs": [
        {
          "output_type": "stream",
          "name": "stdout",
          "text": [
            "20살 미만\n"
          ]
        }
      ]
    },
    {
      "cell_type": "markdown",
      "source": [
        "사용자에게 현쟤 온도를 절문하고 온도가 25도 이상이면 반바지를추천하고 25도 미만\n",
        "이면 긴바지를 추천하는 프로그램램을 작성해보자"
      ],
      "metadata": {
        "id": "1XdXNwY_ud0u"
      }
    },
    {
      "cell_type": "code",
      "source": [
        "temp = int(input(\"현재 온도를 입력하시오 : \"))\n",
        "\n",
        "if temp >= 25:\n",
        "  print(\"반바지를 입으세요\")\n",
        "elif temp < 25:\n",
        "  print(\"긴바지를 입으세요\")"
      ],
      "metadata": {
        "colab": {
          "base_uri": "https://localhost:8080/"
        },
        "id": "3_0zTaw8ukpE",
        "outputId": "90f8916d-c89c-4de4-eacd-f5d337483582"
      },
      "execution_count": 4,
      "outputs": [
        {
          "output_type": "stream",
          "name": "stdout",
          "text": [
            "현재 온도를 입력하시오 : 10\n",
            "긴바지를 입으세요\n"
          ]
        }
      ]
    },
    {
      "cell_type": "markdown",
      "source": [
        "학섕의 시험 점수를 물물어보고 시혐 점수가 90점 이상이면 A. 80점 이상이면 B, 70점\n",
        "이상이면 C, 60점 이상이면 D, 그외의 점수이면 F를 학점으로 주는 프로그램램을 작성\n",
        "하라\n"
      ],
      "metadata": {
        "id": "FXr39Sluu6lB"
      }
    },
    {
      "cell_type": "code",
      "source": [
        "score = int(input(\"성적을 입력하시오 : \"))\n",
        "\n",
        "if score > 100:\n",
        "  print(\"범위에 없습니다\")\n",
        "elif score >= 90:\n",
        "  print(\"A\")\n",
        "elif score >= 80:\n",
        "  print(\"B\")\n",
        "elif score >= 70:\n",
        "  print(\"C\")\n",
        "elif score >= 60:\n",
        "  print(\"D\")\n",
        "elif 60 > score >= 0:\n",
        "  print(\"F\")\n",
        "else :\n",
        "  print(\"범위에 없습니다.\")\n"
      ],
      "metadata": {
        "colab": {
          "base_uri": "https://localhost:8080/"
        },
        "id": "VStP_QI_vGpQ",
        "outputId": "7ebf9758-c32d-415d-a3a5-7f42f3d28ab1"
      },
      "execution_count": 5,
      "outputs": [
        {
          "output_type": "stream",
          "name": "stdout",
          "text": [
            "성적을 입력하시오 : 99\n",
            "A\n"
          ]
        }
      ]
    },
    {
      "cell_type": "markdown",
      "source": [
        "난수를사용하여 1부터 100사이의 숫자릍사용하는뺄셈 문제를생성히고사용자에게\n",
        "물어본 후에 사용자의 답변이 올바른지를 겁사하는 프로그램을 작성하라"
      ],
      "metadata": {
        "id": "k60RLpw3v_tS"
      }
    },
    {
      "cell_type": "code",
      "source": [
        "import random\n",
        "\n",
        "x = random.randint(1, 100)\n",
        "y = random.randint(1, 100)\n",
        "\n",
        "total =int(input(str(x) + \"-\" + str(y) + \"=\"))\n",
        "if total == x - y :\n",
        "  print(\"맞았습니다.\")\n",
        "else :\n",
        "  print(\"틀렸습니다.\")"
      ],
      "metadata": {
        "colab": {
          "base_uri": "https://localhost:8080/"
        },
        "id": "5OHMfnbDwGqL",
        "outputId": "e1f37920-06ff-4b21-91df-cbb70c65f562"
      },
      "execution_count": 7,
      "outputs": [
        {
          "output_type": "stream",
          "name": "stdout",
          "text": [
            "6-13=-7\n",
            "맞았습니다.\n"
          ]
        }
      ]
    },
    {
      "cell_type": "markdown",
      "source": [
        "사용자로부터 정수를 받아서 이 졍수가2와3으로 나누어멀어절 수 있는지를 촐럭하라"
      ],
      "metadata": {
        "id": "BI8efuh0w5Pi"
      }
    },
    {
      "cell_type": "code",
      "source": [
        "n = int(input(\"정수를 입력하시오 : \"))\n",
        "\n",
        "if n%2==0 and n%3==0:\n",
        "  print(\"2와 3으로 나누어 떨어집니다.\")\n",
        "else:\n",
        "  print(\"2와 3으로 나누어 떨어지지 않습니다.\")"
      ],
      "metadata": {
        "colab": {
          "base_uri": "https://localhost:8080/"
        },
        "id": "0ilbzh2jw-N4",
        "outputId": "d174d409-96ee-4ca2-f214-f12ec80f289a"
      },
      "execution_count": 9,
      "outputs": [
        {
          "output_type": "stream",
          "name": "stdout",
          "text": [
            "정수를 입력하시오 : 6\n",
            "2와 3으로 나누어 떨어집니다.\n"
          ]
        }
      ]
    },
    {
      "cell_type": "markdown",
      "source": [
        "2자리리 숫자로 이루어진 복귄이 있다 사용자가 가지고 있는 복권 번호가 2자러 모두 일\n",
        "치하면 100만원을 받는다 2자러 중에서 하나만 일치하면 50만원을 받는다 하나도 일\n",
        "치하지 않으면 상금을 없다 복귄 당첨첨 번호는 난수로 생성히고 사용자의 입럭에 따라서\n",
        "상금이 얼마인지를 출럭하는 프로그램을 작셩하라"
      ],
      "metadata": {
        "id": "8OgB6oTyxVwT"
      }
    },
    {
      "cell_type": "code",
      "source": [
        "import random\n",
        "\n",
        "Lotto = random.randint(0, 99)\n",
        "\n",
        "pick = int(input(\"복권 번호를 입력하시오(0에서 99사이):\"))\n",
        "print(\"당첨번호는\", Lotto, \"입니다\")\n",
        "\n",
        "digit1 = Lotto // 10\n",
        "digit2 = Lotto % 10\n",
        "\n",
        "pickNum1 = pick // 10\n",
        "pickNum2 = pick % 10\n",
        "\n",
        "if pick == Lotto:\n",
        "  print(\"상금은 100만원입니다.\")\n",
        "elif (digit1 == pickNum1) or (digit1 == pickNum2) or (digit2 == pickNum1) or (digit2 == pickNum2) :\n",
        "  print(\"상금은 50만원입니다.\")\n",
        "else:\n",
        "  print(\"상금은 없습니다.\") \n"
      ],
      "metadata": {
        "colab": {
          "base_uri": "https://localhost:8080/"
        },
        "id": "rL0tKeNMxe01",
        "outputId": "efbdbd31-a9dc-42d4-e57e-368ea5b206da"
      },
      "execution_count": 10,
      "outputs": [
        {
          "output_type": "stream",
          "name": "stdout",
          "text": [
            "복권 번호를 입력하시오(0에서 99사이):67\n",
            "당첨번호는 52 입니다\n",
            "상금은 없습니다.\n"
          ]
        }
      ]
    }
  ]
}